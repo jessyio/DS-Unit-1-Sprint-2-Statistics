{
 "cells": [
  {
   "cell_type": "markdown",
   "metadata": {
    "colab_type": "text",
    "id": "view-in-github"
   },
   "source": [
    "<a href=\"https://colab.research.google.com/github/ryanleeallred/DS-Unit-1-Sprint-2-Statistics/blob/master/module3/LS_DS_123_Confidence_Intervals_Assignment.ipynb\" target=\"_parent\"><img src=\"https://colab.research.google.com/assets/colab-badge.svg\" alt=\"Open In Colab\"/></a>"
   ]
  },
  {
   "cell_type": "markdown",
   "metadata": {
    "colab_type": "text",
    "id": "g_c3L9CeANiJ"
   },
   "source": [
    "## Confidence Intervals\n",
    "\n",
    "The following url can be used to access an abbreviated version of responses to Stack Overflow's 2018 Developer Survey. The original Survey had ~100k respondents but the data is quite dirty so I have selected a cleaner subset of it for you to use for your assignment.\n",
    "\n",
    "<https://raw.githubusercontent.com/ryanleeallred/datasets/master/bootcampers.csv>\n",
    "\n",
    "The provided dataset holds 14 columns of information about individuals who make less than 500k per year and who responded that they had: \n",
    "\n",
    "\"Participated in a full-time developer training program or bootcamp\"\n",
    "\n",
    "## Part 1 - Setting the Stage\n",
    "\n",
    "**1) Load the dataset**"
   ]
  },
  {
   "cell_type": "code",
   "execution_count": 45,
   "metadata": {
    "colab": {},
    "colab_type": "code",
    "id": "yXwMJQGrAIbO"
   },
   "outputs": [
    {
     "data": {
      "text/plain": [
       "(2761, 15)"
      ]
     },
     "execution_count": 45,
     "metadata": {},
     "output_type": "execute_result"
    }
   ],
   "source": [
    "import numpy as np\n",
    "import pandas as pd\n",
    "import matplotlib.pyplot as plt\n",
    "from scipy import stats \n",
    "\n",
    "df = pd.read_csv('https://raw.githubusercontent.com/ryanleeallred/datasets/master/bootcampers.csv')\n",
    "df.head()\n",
    "df.shape"
   ]
  },
  {
   "cell_type": "markdown",
   "metadata": {
    "colab_type": "text",
    "id": "wOQ-9E8uYcni"
   },
   "source": [
    "**2) Select two random samples from this dataset, one with a sample size of 20 and the other with a sample size of 200. (Use a `random_state` of `42` when selecting the samples)**"
   ]
  },
  {
   "cell_type": "code",
   "execution_count": 3,
   "metadata": {
    "colab": {},
    "colab_type": "code",
    "id": "m1vuFGxVQo64"
   },
   "outputs": [
    {
     "data": {
      "text/html": [
       "<div>\n",
       "<style scoped>\n",
       "    .dataframe tbody tr th:only-of-type {\n",
       "        vertical-align: middle;\n",
       "    }\n",
       "\n",
       "    .dataframe tbody tr th {\n",
       "        vertical-align: top;\n",
       "    }\n",
       "\n",
       "    .dataframe thead th {\n",
       "        text-align: right;\n",
       "    }\n",
       "</style>\n",
       "<table border=\"1\" class=\"dataframe\">\n",
       "  <thead>\n",
       "    <tr style=\"text-align: right;\">\n",
       "      <th></th>\n",
       "      <th>Unnamed: 0</th>\n",
       "      <th>Student</th>\n",
       "      <th>Employment</th>\n",
       "      <th>UndergradMajor</th>\n",
       "      <th>DevType</th>\n",
       "      <th>YearsCoding</th>\n",
       "      <th>YearsCodingProf</th>\n",
       "      <th>ConvertedSalary</th>\n",
       "      <th>EducationTypes</th>\n",
       "      <th>SelfTaughtTypes</th>\n",
       "      <th>TimeAfterBootcamp</th>\n",
       "      <th>LanguageWorkedWith</th>\n",
       "      <th>Gender</th>\n",
       "      <th>Age</th>\n",
       "      <th>RaceEthnicity</th>\n",
       "    </tr>\n",
       "  </thead>\n",
       "  <tbody>\n",
       "    <tr>\n",
       "      <th>367</th>\n",
       "      <td>11175</td>\n",
       "      <td>No</td>\n",
       "      <td>Employed full-time</td>\n",
       "      <td>Computer science, computer engineering, or sof...</td>\n",
       "      <td>Back-end developer;Data or business analyst;Da...</td>\n",
       "      <td>0-2 years</td>\n",
       "      <td>0-2 years</td>\n",
       "      <td>74500.0</td>\n",
       "      <td>Taken an online course in programming or softw...</td>\n",
       "      <td>Questions &amp; answers on Stack Overflow;Online d...</td>\n",
       "      <td>I already had a full-time job as a developer w...</td>\n",
       "      <td>JavaScript;PHP;Python;SQL;HTML;CSS;Bash/Shell</td>\n",
       "      <td>Male</td>\n",
       "      <td>25 - 34 years old</td>\n",
       "      <td>Native American, Pacific Islander, or Indigeno...</td>\n",
       "    </tr>\n",
       "    <tr>\n",
       "      <th>2759</th>\n",
       "      <td>87070</td>\n",
       "      <td>No</td>\n",
       "      <td>Not employed, but looking for work</td>\n",
       "      <td>A health science (ex. nursing, pharmacy, radio...</td>\n",
       "      <td>Mobile developer</td>\n",
       "      <td>0-2 years</td>\n",
       "      <td>0-2 years</td>\n",
       "      <td>60000.0</td>\n",
       "      <td>Taken an online course in programming or softw...</td>\n",
       "      <td>The official documentation and/or standards fo...</td>\n",
       "      <td>Six months to a year</td>\n",
       "      <td>C;C#;Objective-C;Swift</td>\n",
       "      <td>Male</td>\n",
       "      <td>18 - 24 years old</td>\n",
       "      <td>Black or of African descent</td>\n",
       "    </tr>\n",
       "    <tr>\n",
       "      <th>1330</th>\n",
       "      <td>39067</td>\n",
       "      <td>No</td>\n",
       "      <td>Employed full-time</td>\n",
       "      <td>Information systems, information technology, o...</td>\n",
       "      <td>Back-end developer;DevOps specialist;Front-end...</td>\n",
       "      <td>3-5 years</td>\n",
       "      <td>3-5 years</td>\n",
       "      <td>86120.0</td>\n",
       "      <td>Taken an online course in programming or softw...</td>\n",
       "      <td>The official documentation and/or standards fo...</td>\n",
       "      <td>I already had a full-time job as a developer w...</td>\n",
       "      <td>C#;Java;JavaScript;SQL;TypeScript;HTML;CSS</td>\n",
       "      <td>Male</td>\n",
       "      <td>25 - 34 years old</td>\n",
       "      <td>White or of European descent</td>\n",
       "    </tr>\n",
       "    <tr>\n",
       "      <th>2750</th>\n",
       "      <td>86288</td>\n",
       "      <td>No</td>\n",
       "      <td>Not employed, but looking for work</td>\n",
       "      <td>A social science (ex. anthropology, psychology...</td>\n",
       "      <td>Front-end developer;Full-stack developer</td>\n",
       "      <td>3-5 years</td>\n",
       "      <td>3-5 years</td>\n",
       "      <td>60000.0</td>\n",
       "      <td>Taken an online course in programming or softw...</td>\n",
       "      <td>The official documentation and/or standards fo...</td>\n",
       "      <td>Longer than a year</td>\n",
       "      <td>CoffeeScript;JavaScript;PHP;Python;SQL;TypeScr...</td>\n",
       "      <td>Male</td>\n",
       "      <td>25 - 34 years old</td>\n",
       "      <td>White or of European descent</td>\n",
       "    </tr>\n",
       "    <tr>\n",
       "      <th>521</th>\n",
       "      <td>15370</td>\n",
       "      <td>No</td>\n",
       "      <td>Employed full-time</td>\n",
       "      <td>Computer science, computer engineering, or sof...</td>\n",
       "      <td>Back-end developer;Front-end developer;Full-st...</td>\n",
       "      <td>9-11 years</td>\n",
       "      <td>6-8 years</td>\n",
       "      <td>25047.0</td>\n",
       "      <td>Taken an online course in programming or softw...</td>\n",
       "      <td>The official documentation and/or standards fo...</td>\n",
       "      <td>Four to six months</td>\n",
       "      <td>C#;Java;JavaScript;PHP;SQL;HTML;CSS</td>\n",
       "      <td>Male</td>\n",
       "      <td>25 - 34 years old</td>\n",
       "      <td>East Asian;Middle Eastern</td>\n",
       "    </tr>\n",
       "  </tbody>\n",
       "</table>\n",
       "</div>"
      ],
      "text/plain": [
       "      Unnamed: 0 Student                          Employment  \\\n",
       "367        11175      No                  Employed full-time   \n",
       "2759       87070      No  Not employed, but looking for work   \n",
       "1330       39067      No                  Employed full-time   \n",
       "2750       86288      No  Not employed, but looking for work   \n",
       "521        15370      No                  Employed full-time   \n",
       "\n",
       "                                         UndergradMajor  \\\n",
       "367   Computer science, computer engineering, or sof...   \n",
       "2759  A health science (ex. nursing, pharmacy, radio...   \n",
       "1330  Information systems, information technology, o...   \n",
       "2750  A social science (ex. anthropology, psychology...   \n",
       "521   Computer science, computer engineering, or sof...   \n",
       "\n",
       "                                                DevType YearsCoding  \\\n",
       "367   Back-end developer;Data or business analyst;Da...   0-2 years   \n",
       "2759                                   Mobile developer   0-2 years   \n",
       "1330  Back-end developer;DevOps specialist;Front-end...   3-5 years   \n",
       "2750           Front-end developer;Full-stack developer   3-5 years   \n",
       "521   Back-end developer;Front-end developer;Full-st...  9-11 years   \n",
       "\n",
       "     YearsCodingProf  ConvertedSalary  \\\n",
       "367        0-2 years          74500.0   \n",
       "2759       0-2 years          60000.0   \n",
       "1330       3-5 years          86120.0   \n",
       "2750       3-5 years          60000.0   \n",
       "521        6-8 years          25047.0   \n",
       "\n",
       "                                         EducationTypes  \\\n",
       "367   Taken an online course in programming or softw...   \n",
       "2759  Taken an online course in programming or softw...   \n",
       "1330  Taken an online course in programming or softw...   \n",
       "2750  Taken an online course in programming or softw...   \n",
       "521   Taken an online course in programming or softw...   \n",
       "\n",
       "                                        SelfTaughtTypes  \\\n",
       "367   Questions & answers on Stack Overflow;Online d...   \n",
       "2759  The official documentation and/or standards fo...   \n",
       "1330  The official documentation and/or standards fo...   \n",
       "2750  The official documentation and/or standards fo...   \n",
       "521   The official documentation and/or standards fo...   \n",
       "\n",
       "                                      TimeAfterBootcamp  \\\n",
       "367   I already had a full-time job as a developer w...   \n",
       "2759                               Six months to a year   \n",
       "1330  I already had a full-time job as a developer w...   \n",
       "2750                                 Longer than a year   \n",
       "521                                  Four to six months   \n",
       "\n",
       "                                     LanguageWorkedWith Gender  \\\n",
       "367       JavaScript;PHP;Python;SQL;HTML;CSS;Bash/Shell   Male   \n",
       "2759                             C;C#;Objective-C;Swift   Male   \n",
       "1330         C#;Java;JavaScript;SQL;TypeScript;HTML;CSS   Male   \n",
       "2750  CoffeeScript;JavaScript;PHP;Python;SQL;TypeScr...   Male   \n",
       "521                 C#;Java;JavaScript;PHP;SQL;HTML;CSS   Male   \n",
       "\n",
       "                    Age                                      RaceEthnicity  \n",
       "367   25 - 34 years old  Native American, Pacific Islander, or Indigeno...  \n",
       "2759  18 - 24 years old                        Black or of African descent  \n",
       "1330  25 - 34 years old                       White or of European descent  \n",
       "2750  25 - 34 years old                       White or of European descent  \n",
       "521   25 - 34 years old                          East Asian;Middle Eastern  "
      ]
     },
     "execution_count": 3,
     "metadata": {},
     "output_type": "execute_result"
    }
   ],
   "source": [
    "sample_20 = df.sample(20, random_state=42)\n",
    "\n",
    "sample_20.head()"
   ]
  },
  {
   "cell_type": "code",
   "execution_count": 17,
   "metadata": {},
   "outputs": [
    {
     "data": {
      "text/html": [
       "<div>\n",
       "<style scoped>\n",
       "    .dataframe tbody tr th:only-of-type {\n",
       "        vertical-align: middle;\n",
       "    }\n",
       "\n",
       "    .dataframe tbody tr th {\n",
       "        vertical-align: top;\n",
       "    }\n",
       "\n",
       "    .dataframe thead th {\n",
       "        text-align: right;\n",
       "    }\n",
       "</style>\n",
       "<table border=\"1\" class=\"dataframe\">\n",
       "  <thead>\n",
       "    <tr style=\"text-align: right;\">\n",
       "      <th></th>\n",
       "      <th>Unnamed: 0</th>\n",
       "      <th>Student</th>\n",
       "      <th>Employment</th>\n",
       "      <th>UndergradMajor</th>\n",
       "      <th>DevType</th>\n",
       "      <th>YearsCoding</th>\n",
       "      <th>YearsCodingProf</th>\n",
       "      <th>ConvertedSalary</th>\n",
       "      <th>EducationTypes</th>\n",
       "      <th>SelfTaughtTypes</th>\n",
       "      <th>TimeAfterBootcamp</th>\n",
       "      <th>LanguageWorkedWith</th>\n",
       "      <th>Gender</th>\n",
       "      <th>Age</th>\n",
       "      <th>RaceEthnicity</th>\n",
       "    </tr>\n",
       "  </thead>\n",
       "  <tbody>\n",
       "    <tr>\n",
       "      <th>367</th>\n",
       "      <td>11175</td>\n",
       "      <td>No</td>\n",
       "      <td>Employed full-time</td>\n",
       "      <td>Computer science, computer engineering, or sof...</td>\n",
       "      <td>Back-end developer;Data or business analyst;Da...</td>\n",
       "      <td>0-2 years</td>\n",
       "      <td>0-2 years</td>\n",
       "      <td>74500.0</td>\n",
       "      <td>Taken an online course in programming or softw...</td>\n",
       "      <td>Questions &amp; answers on Stack Overflow;Online d...</td>\n",
       "      <td>I already had a full-time job as a developer w...</td>\n",
       "      <td>JavaScript;PHP;Python;SQL;HTML;CSS;Bash/Shell</td>\n",
       "      <td>Male</td>\n",
       "      <td>25 - 34 years old</td>\n",
       "      <td>Native American, Pacific Islander, or Indigeno...</td>\n",
       "    </tr>\n",
       "    <tr>\n",
       "      <th>2759</th>\n",
       "      <td>87070</td>\n",
       "      <td>No</td>\n",
       "      <td>Not employed, but looking for work</td>\n",
       "      <td>A health science (ex. nursing, pharmacy, radio...</td>\n",
       "      <td>Mobile developer</td>\n",
       "      <td>0-2 years</td>\n",
       "      <td>0-2 years</td>\n",
       "      <td>60000.0</td>\n",
       "      <td>Taken an online course in programming or softw...</td>\n",
       "      <td>The official documentation and/or standards fo...</td>\n",
       "      <td>Six months to a year</td>\n",
       "      <td>C;C#;Objective-C;Swift</td>\n",
       "      <td>Male</td>\n",
       "      <td>18 - 24 years old</td>\n",
       "      <td>Black or of African descent</td>\n",
       "    </tr>\n",
       "    <tr>\n",
       "      <th>1330</th>\n",
       "      <td>39067</td>\n",
       "      <td>No</td>\n",
       "      <td>Employed full-time</td>\n",
       "      <td>Information systems, information technology, o...</td>\n",
       "      <td>Back-end developer;DevOps specialist;Front-end...</td>\n",
       "      <td>3-5 years</td>\n",
       "      <td>3-5 years</td>\n",
       "      <td>86120.0</td>\n",
       "      <td>Taken an online course in programming or softw...</td>\n",
       "      <td>The official documentation and/or standards fo...</td>\n",
       "      <td>I already had a full-time job as a developer w...</td>\n",
       "      <td>C#;Java;JavaScript;SQL;TypeScript;HTML;CSS</td>\n",
       "      <td>Male</td>\n",
       "      <td>25 - 34 years old</td>\n",
       "      <td>White or of European descent</td>\n",
       "    </tr>\n",
       "    <tr>\n",
       "      <th>2750</th>\n",
       "      <td>86288</td>\n",
       "      <td>No</td>\n",
       "      <td>Not employed, but looking for work</td>\n",
       "      <td>A social science (ex. anthropology, psychology...</td>\n",
       "      <td>Front-end developer;Full-stack developer</td>\n",
       "      <td>3-5 years</td>\n",
       "      <td>3-5 years</td>\n",
       "      <td>60000.0</td>\n",
       "      <td>Taken an online course in programming or softw...</td>\n",
       "      <td>The official documentation and/or standards fo...</td>\n",
       "      <td>Longer than a year</td>\n",
       "      <td>CoffeeScript;JavaScript;PHP;Python;SQL;TypeScr...</td>\n",
       "      <td>Male</td>\n",
       "      <td>25 - 34 years old</td>\n",
       "      <td>White or of European descent</td>\n",
       "    </tr>\n",
       "    <tr>\n",
       "      <th>521</th>\n",
       "      <td>15370</td>\n",
       "      <td>No</td>\n",
       "      <td>Employed full-time</td>\n",
       "      <td>Computer science, computer engineering, or sof...</td>\n",
       "      <td>Back-end developer;Front-end developer;Full-st...</td>\n",
       "      <td>9-11 years</td>\n",
       "      <td>6-8 years</td>\n",
       "      <td>25047.0</td>\n",
       "      <td>Taken an online course in programming or softw...</td>\n",
       "      <td>The official documentation and/or standards fo...</td>\n",
       "      <td>Four to six months</td>\n",
       "      <td>C#;Java;JavaScript;PHP;SQL;HTML;CSS</td>\n",
       "      <td>Male</td>\n",
       "      <td>25 - 34 years old</td>\n",
       "      <td>East Asian;Middle Eastern</td>\n",
       "    </tr>\n",
       "  </tbody>\n",
       "</table>\n",
       "</div>"
      ],
      "text/plain": [
       "      Unnamed: 0 Student                          Employment  \\\n",
       "367        11175      No                  Employed full-time   \n",
       "2759       87070      No  Not employed, but looking for work   \n",
       "1330       39067      No                  Employed full-time   \n",
       "2750       86288      No  Not employed, but looking for work   \n",
       "521        15370      No                  Employed full-time   \n",
       "\n",
       "                                         UndergradMajor  \\\n",
       "367   Computer science, computer engineering, or sof...   \n",
       "2759  A health science (ex. nursing, pharmacy, radio...   \n",
       "1330  Information systems, information technology, o...   \n",
       "2750  A social science (ex. anthropology, psychology...   \n",
       "521   Computer science, computer engineering, or sof...   \n",
       "\n",
       "                                                DevType YearsCoding  \\\n",
       "367   Back-end developer;Data or business analyst;Da...   0-2 years   \n",
       "2759                                   Mobile developer   0-2 years   \n",
       "1330  Back-end developer;DevOps specialist;Front-end...   3-5 years   \n",
       "2750           Front-end developer;Full-stack developer   3-5 years   \n",
       "521   Back-end developer;Front-end developer;Full-st...  9-11 years   \n",
       "\n",
       "     YearsCodingProf  ConvertedSalary  \\\n",
       "367        0-2 years          74500.0   \n",
       "2759       0-2 years          60000.0   \n",
       "1330       3-5 years          86120.0   \n",
       "2750       3-5 years          60000.0   \n",
       "521        6-8 years          25047.0   \n",
       "\n",
       "                                         EducationTypes  \\\n",
       "367   Taken an online course in programming or softw...   \n",
       "2759  Taken an online course in programming or softw...   \n",
       "1330  Taken an online course in programming or softw...   \n",
       "2750  Taken an online course in programming or softw...   \n",
       "521   Taken an online course in programming or softw...   \n",
       "\n",
       "                                        SelfTaughtTypes  \\\n",
       "367   Questions & answers on Stack Overflow;Online d...   \n",
       "2759  The official documentation and/or standards fo...   \n",
       "1330  The official documentation and/or standards fo...   \n",
       "2750  The official documentation and/or standards fo...   \n",
       "521   The official documentation and/or standards fo...   \n",
       "\n",
       "                                      TimeAfterBootcamp  \\\n",
       "367   I already had a full-time job as a developer w...   \n",
       "2759                               Six months to a year   \n",
       "1330  I already had a full-time job as a developer w...   \n",
       "2750                                 Longer than a year   \n",
       "521                                  Four to six months   \n",
       "\n",
       "                                     LanguageWorkedWith Gender  \\\n",
       "367       JavaScript;PHP;Python;SQL;HTML;CSS;Bash/Shell   Male   \n",
       "2759                             C;C#;Objective-C;Swift   Male   \n",
       "1330         C#;Java;JavaScript;SQL;TypeScript;HTML;CSS   Male   \n",
       "2750  CoffeeScript;JavaScript;PHP;Python;SQL;TypeScr...   Male   \n",
       "521                 C#;Java;JavaScript;PHP;SQL;HTML;CSS   Male   \n",
       "\n",
       "                    Age                                      RaceEthnicity  \n",
       "367   25 - 34 years old  Native American, Pacific Islander, or Indigeno...  \n",
       "2759  18 - 24 years old                        Black or of African descent  \n",
       "1330  25 - 34 years old                       White or of European descent  \n",
       "2750  25 - 34 years old                       White or of European descent  \n",
       "521   25 - 34 years old                          East Asian;Middle Eastern  "
      ]
     },
     "execution_count": 17,
     "metadata": {},
     "output_type": "execute_result"
    }
   ],
   "source": [
    "sample_200 = df.sample(200, random_state=42)\n",
    "\n",
    "sample_200.head()"
   ]
  },
  {
   "cell_type": "markdown",
   "metadata": {
    "colab_type": "text",
    "id": "y2Rz-8O-YmF9"
   },
   "source": [
    "**3) Calculate and report the sample means of the `ConvertedSalary` column for both of the samples.**"
   ]
  },
  {
   "cell_type": "code",
   "execution_count": 10,
   "metadata": {
    "colab": {},
    "colab_type": "code",
    "id": "ti9x37XSQ_yL"
   },
   "outputs": [
    {
     "data": {
      "text/plain": [
       "55752.2"
      ]
     },
     "execution_count": 10,
     "metadata": {},
     "output_type": "execute_result"
    }
   ],
   "source": [
    "sample_20['ConvertedSalary'].mean()"
   ]
  },
  {
   "cell_type": "code",
   "execution_count": 18,
   "metadata": {},
   "outputs": [
    {
     "data": {
      "text/plain": [
       "68551.255"
      ]
     },
     "execution_count": 18,
     "metadata": {},
     "output_type": "execute_result"
    }
   ],
   "source": [
    "sample_200['ConvertedSalary'].mean()"
   ]
  },
  {
   "cell_type": "markdown",
   "metadata": {
    "colab_type": "text",
    "id": "AtGASqgxYp5t"
   },
   "source": [
    "**4) Both of these sample means are estimates of an underlying population value. Which sample mean do you trust more? Why? Would a non-technical audience have any idea about which of these values is more trustworthy?**"
   ]
  },
  {
   "cell_type": "markdown",
   "metadata": {
    "colab_type": "text",
    "id": "8oD8lp84YyvU"
   },
   "source": [
    "The larger sample of 200 is more trustworthy, because you are more likely to get numbers that are representative of the population as a whole without being affected by outliers too much"
   ]
  },
  {
   "cell_type": "markdown",
   "metadata": {
    "colab_type": "text",
    "id": "-2ulIAGmYudp"
   },
   "source": [
    "**5) Does just the point estimate (individual value of the sample mean) indicate to you anything about how much sampling error there could be with these estimates?**"
   ]
  },
  {
   "cell_type": "markdown",
   "metadata": {
    "colab_type": "text",
    "id": "hD5HloatYxoh"
   },
   "source": [
    "No, because that doesn't indicate the margin of error."
   ]
  },
  {
   "cell_type": "markdown",
   "metadata": {
    "colab_type": "text",
    "id": "SpqgKQfTYvF0"
   },
   "source": [
    "**6) What strategies could we use when reporting these numbers to not only report our estimates but also to give non-technical readers an idea about how far off our estimates might be due to sampling error?**\n",
    "\n"
   ]
  },
  {
   "cell_type": "markdown",
   "metadata": {
    "colab_type": "text",
    "id": "h7N1WnTTYyD7"
   },
   "source": [
    "Show them the graph of different confidence intervales between different sample sizes."
   ]
  },
  {
   "cell_type": "markdown",
   "metadata": {
    "colab_type": "text",
    "id": "9tIHBlM_SyGR"
   },
   "source": [
    "## Part 2 - Reporting CIs / MOEs along with our point estimates for more context.\n",
    "\n",
    "**1) Calculate and report a 95% confidence interval around both of the sample means from part 1.**\n",
    "\n"
   ]
  },
  {
   "cell_type": "markdown",
   "metadata": {},
   "source": [
    "<img src=\"https://github.com/ryanallredblog/ryanallredblog.github.io/blob/master/img/Confidence_Interval.png?raw=true\" width=400>"
   ]
  },
  {
   "cell_type": "code",
   "execution_count": 34,
   "metadata": {
    "colab": {},
    "colab_type": "code",
    "id": "hfCO0gHEUOrE"
   },
   "outputs": [],
   "source": [
    "def confidence_interval(sample, confidence_level=0.95):\n",
    "    data = np.array(sample)\n",
    "    x_bar = np.mean(data)\n",
    "\n",
    "    s = np.std(data, ddof=1)\n",
    "    n = data.shape[0]\n",
    "    \n",
    "    t = stats.t.ppf((1-((1-confidence_level)/2)), n-1)\n",
    "    \n",
    "    std_err = (s/np.sqrt(n))\n",
    "    \n",
    "    moe = t*std_err\n",
    "    \n",
    "    lower_bound = x_bar - moe\n",
    "    upper_bound = x_bar + moe\n",
    "    \n",
    "    return(lower_bound, x_bar, upper_bound, moe)"
   ]
  },
  {
   "cell_type": "code",
   "execution_count": 35,
   "metadata": {
    "colab": {},
    "colab_type": "code",
    "id": "r5OqA6GYUbUZ"
   },
   "outputs": [
    {
     "data": {
      "text/plain": [
       "(35805.10309625536, 55752.2, 75699.29690374463, 19947.096903744638)"
      ]
     },
     "execution_count": 35,
     "metadata": {},
     "output_type": "execute_result"
    }
   ],
   "source": [
    "CI_20 = confidence_interval(sample_20['ConvertedSalary'], confidence_level=0.95)\n",
    "CI_20"
   ]
  },
  {
   "cell_type": "code",
   "execution_count": 36,
   "metadata": {
    "colab": {},
    "colab_type": "code",
    "id": "kvtuhUzzUlqH"
   },
   "outputs": [
    {
     "data": {
      "text/plain": [
       "(60593.058804479086, 68551.255, 76509.45119552092, 7958.196195520917)"
      ]
     },
     "execution_count": 36,
     "metadata": {},
     "output_type": "execute_result"
    }
   ],
   "source": [
    "CI_200 = confidence_interval(sample_200['ConvertedSalary'], confidence_level=0.95)\n",
    "CI_200"
   ]
  },
  {
   "cell_type": "markdown",
   "metadata": {
    "colab_type": "text",
    "id": "vdiW7DHRZwK-"
   },
   "source": [
    "**2) Which confidence interval is wider and why?**"
   ]
  },
  {
   "cell_type": "markdown",
   "metadata": {
    "colab_type": "text",
    "id": "p5KGlyvYZ1Qq"
   },
   "source": [
    "The confidence interval of the first sample is much wider. Due to its lower sample size the standard error of our estimate is much larger causing the potential distribution of sample means to be much more spread out. A confidence interval catches 95% of this theoretical distriution of sample means so if our standard error is larger, our confidence interval will be wider as well."
   ]
  },
  {
   "cell_type": "markdown",
   "metadata": {
    "colab_type": "text",
    "id": "6N33K4NvZ13H"
   },
   "source": [
    "**3) Report the mean and the margin of error for both of the sample means. What does the Margin of Error Represent?**"
   ]
  },
  {
   "cell_type": "markdown",
   "metadata": {
    "colab": {},
    "colab_type": "code",
    "id": "MfMIBftMU_rz"
   },
   "source": [
    "Sample_20\n",
    "\n",
    "Mean: 55752.2\n",
    "\n",
    "MOE: 19947.09\n",
    "\n",
    "MOE: we are +-19947 from the point estimate to capture the confidence interval at CL of 0.95"
   ]
  },
  {
   "cell_type": "markdown",
   "metadata": {
    "colab": {},
    "colab_type": "code",
    "id": "DOJ41W1tVWa6"
   },
   "source": [
    "Sample_200\n",
    "\n",
    "Mean: 68551.25\n",
    "\n",
    "MOE: 7958.19\n",
    "\n",
    "MOE: we are +-7958 from the point estimate to capture the confidence interval at CL of 0.95"
   ]
  },
  {
   "cell_type": "markdown",
   "metadata": {
    "colab_type": "text",
    "id": "_7NuYtHfaQav"
   },
   "source": [
    "The margin of error gives an idea of how far off our estimates might be (with 95% confidence). We're trying to supply a plausible range for our parameter of interest (the true average salary of bootcamp grads)."
   ]
  },
  {
   "cell_type": "markdown",
   "metadata": {
    "colab_type": "text",
    "id": "zkg9EW9KTgGv"
   },
   "source": [
    "## Part 3 - Communicate the Precision of Sample Estimates Graphically\n",
    "\n",
    "**1) Create a plot using `plt.errorbar` that compares both of the confidence intervals.** "
   ]
  },
  {
   "cell_type": "code",
   "execution_count": 44,
   "metadata": {
    "colab": {},
    "colab_type": "code",
    "id": "2QOQGVfsVfFZ"
   },
   "outputs": [
    {
     "data": {
      "text/plain": [
       "Text(0.5, 1.0, 'Converted Salary of Bootcamp Attendees')"
      ]
     },
     "execution_count": 44,
     "metadata": {},
     "output_type": "execute_result"
    },
    {
     "data": {
      "image/png": "[encoded data removed]",
      "text/plain": [
       "<Figure size 432x288 with 1 Axes>"
      ]
     },
     "metadata": {
      "needs_background": "light"
     },
     "output_type": "display_data"
    }
   ],
   "source": [
    "plt.errorbar(0, CI_20[1], yerr=CI_20[3], fmt='x')\n",
    "plt.errorbar(1, CI_200[1], yerr=CI_200[3], fmt='o')\n",
    "plt.title('Converted Salary of Bootcamp Attendees')"
   ]
  },
  {
   "cell_type": "markdown",
   "metadata": {
    "colab_type": "text",
    "id": "HsTtONTNawFi"
   },
   "source": [
    "**2) Create a plot using `plt.bar` that compares both of the confidence intervals.**"
   ]
  },
  {
   "cell_type": "code",
   "execution_count": 51,
   "metadata": {
    "colab": {},
    "colab_type": "code",
    "id": "UE1fxaoKW1Xg"
   },
   "outputs": [
    {
     "data": {
      "text/plain": [
       "<BarContainer object of 1 artists>"
      ]
     },
     "execution_count": 51,
     "metadata": {},
     "output_type": "execute_result"
    },
    {
     "data": {
      "image/png": "[encoded data removed]",
      "text/plain": [
       "<Figure size 432x288 with 1 Axes>"
      ]
     },
     "metadata": {
      "needs_background": "light"
     },
     "output_type": "display_data"
    }
   ],
   "source": [
    "plt.bar(0, height=CI_20[1], yerr=CI_20[3])\n",
    "plt.bar(1, height=CI_200[1], yerr=CI_200[3])"
   ]
  },
  {
   "cell_type": "markdown",
   "metadata": {
    "colab_type": "text",
    "id": "ZGCzS-BFctob"
   },
   "source": [
    "## Part 4 - Check for Understanding\n",
    "\n",
    "\n",
    "\n",
    "\n",
    "\n"
   ]
  },
  {
   "cell_type": "markdown",
   "metadata": {
    "colab_type": "text",
    "id": "E181afPXezJ9"
   },
   "source": [
    "**Calculate a Confidence Interval using the entire dataset. How precise do our estimates get?**"
   ]
  },
  {
   "cell_type": "code",
   "execution_count": 50,
   "metadata": {
    "colab": {},
    "colab_type": "code",
    "id": "3puy99D6esLn"
   },
   "outputs": [
    {
     "data": {
      "text/plain": [
       "(71299.82986224785, 73453.40420137631, 75606.97854050477, 2153.574339128457)"
      ]
     },
     "execution_count": 50,
     "metadata": {},
     "output_type": "execute_result"
    }
   ],
   "source": [
    "confidence_interval(df['ConvertedSalary'], confidence_level=0.95)\n",
    "\n",
    "#CI of 71299 to 75606 with MOE of 2153 and point estimate of 73453"
   ]
  },
  {
   "cell_type": "markdown",
   "metadata": {
    "colab_type": "text",
    "id": "wbA0inEKexdW"
   },
   "source": [
    "**What does \"precision\" mean in the context of statistical estimates and how is that different from \"accuracy?\"**"
   ]
  },
  {
   "cell_type": "markdown",
   "metadata": {
    "colab_type": "text",
    "id": "Btl5phUUd6L4"
   },
   "source": [
    "Precision means how close together the values are and accuracy means whether the values are the \"right\" values "
   ]
  },
  {
   "cell_type": "markdown",
   "metadata": {
    "colab_type": "text",
    "id": "4F-4ux7sd5pL"
   },
   "source": [
    "**It is very common to misunderstand what is captured by a 95% confidence interval. What is the correct interpretation? ([Hint](https://www.statisticssolutions.com/misconceptions-about-confidence-intervals/))**\n",
    "\n",
    "A 95% CL == 95% of the CI calculated from the random samples will contain the true population mean. \n",
    "\n",
    "I.e., if you conducted a study 100 times you would produce 100 different CI. We would expect that 95 out of those 100 CI will contain the true population mean."
   ]
  },
  {
   "cell_type": "markdown",
   "metadata": {
    "colab_type": "text",
    "id": "bSU07naHd6li"
   },
   "source": []
  },
  {
   "cell_type": "markdown",
   "metadata": {
    "colab_type": "text",
    "id": "cvtnsGLJa4bW"
   },
   "source": [
    "# Stretch Goals:\n",
    "\n",
    "1) Study the relationship between t-tests and confidence intervals.\n",
    " - Find a sample mean that we have worked with and construct a 95% confidence interval around it. (find the lower and upper bounds)\n",
    " - Run a 1-sample t-test with the null hypothesis value being just barely **outside** of the confidence interval. What is the p-value?\n",
    " - Run a 1-sample t-test with the null hypothesis value being just barely **inside** of the confidence interval. What is the p-value?\n",
    "\n",
    "  What does it mean when we say that the boundaries of the confidence interval are the boundaries of statistical significance in a 1-sample t-test?\n",
    "\n",
    "\n",
    "2) Go back to our [congressional voting dataset](https://archive.ics.uci.edu/ml/datasets/Congressional+Voting+Records) and build confidence intervals around the means of all of the issues for a single party. Compare all of those confidence intervals graphically on a single graph. \n",
    "\n",
    "3) Dive deeper into the [2018 Stack Overflow Survey](https://www.kaggle.com/stackoverflow/stack-overflow-2018-developer-survey) results to see what cool things you can find."
   ]
  }
 ],
 "metadata": {
  "colab": {
   "authorship_tag": "ABX9TyPOhMGlfSAW8A+obNnJJS8F",
   "collapsed_sections": [],
   "include_colab_link": true,
   "name": "LS_DS_123_Confidence_Intervals_Assignment.ipynb",
   "provenance": []
  },
  "kernelspec": {
   "display_name": "Python 3",
   "language": "python",
   "name": "python3"
  },
  "language_info": {
   "codemirror_mode": {
    "name": "ipython",
    "version": 3
   },
   "file_extension": ".py",
   "mimetype": "text/x-python",
   "name": "python",
   "nbconvert_exporter": "python",
   "pygments_lexer": "ipython3",
   "version": "3.7.6"
  }
 },
 "nbformat": 4,
 "nbformat_minor": 1
}
